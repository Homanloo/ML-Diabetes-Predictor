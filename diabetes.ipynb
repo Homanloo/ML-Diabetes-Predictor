{
 "cells": [
  {
   "cell_type": "markdown",
   "metadata": {},
   "source": [
    "## Diabetes Prediction: Studying Various Models\n",
    "\n",
    "This Notebooks conducts a very basic implementation of different classification models to train a diabetes predection model.\n",
    "\n",
    "The data is from Kaggle. You can access the dataset from [here](https://www.kaggle.com/datasets/akshaydattatraykhare/diabetes-dataset)\n",
    "\n",
    "I am new to the party, so don't hesitate to suggest any improvements on this piece of work.\n",
    "\n",
    "Thank you <3"
   ]
  },
  {
   "cell_type": "code",
   "execution_count": 139,
   "metadata": {},
   "outputs": [
    {
     "data": {
      "text/html": [
       "<div>\n",
       "<style scoped>\n",
       "    .dataframe tbody tr th:only-of-type {\n",
       "        vertical-align: middle;\n",
       "    }\n",
       "\n",
       "    .dataframe tbody tr th {\n",
       "        vertical-align: top;\n",
       "    }\n",
       "\n",
       "    .dataframe thead th {\n",
       "        text-align: right;\n",
       "    }\n",
       "</style>\n",
       "<table border=\"1\" class=\"dataframe\">\n",
       "  <thead>\n",
       "    <tr style=\"text-align: right;\">\n",
       "      <th></th>\n",
       "      <th>Pregnancies</th>\n",
       "      <th>Glucose</th>\n",
       "      <th>BloodPressure</th>\n",
       "      <th>SkinThickness</th>\n",
       "      <th>Insulin</th>\n",
       "      <th>BMI</th>\n",
       "      <th>DiabetesPedigreeFunction</th>\n",
       "      <th>Age</th>\n",
       "      <th>Outcome</th>\n",
       "    </tr>\n",
       "  </thead>\n",
       "  <tbody>\n",
       "    <tr>\n",
       "      <th>668</th>\n",
       "      <td>6</td>\n",
       "      <td>98</td>\n",
       "      <td>58</td>\n",
       "      <td>33</td>\n",
       "      <td>190</td>\n",
       "      <td>34.0</td>\n",
       "      <td>0.430</td>\n",
       "      <td>43</td>\n",
       "      <td>0</td>\n",
       "    </tr>\n",
       "    <tr>\n",
       "      <th>324</th>\n",
       "      <td>2</td>\n",
       "      <td>112</td>\n",
       "      <td>75</td>\n",
       "      <td>32</td>\n",
       "      <td>0</td>\n",
       "      <td>35.7</td>\n",
       "      <td>0.148</td>\n",
       "      <td>21</td>\n",
       "      <td>0</td>\n",
       "    </tr>\n",
       "    <tr>\n",
       "      <th>624</th>\n",
       "      <td>2</td>\n",
       "      <td>108</td>\n",
       "      <td>64</td>\n",
       "      <td>0</td>\n",
       "      <td>0</td>\n",
       "      <td>30.8</td>\n",
       "      <td>0.158</td>\n",
       "      <td>21</td>\n",
       "      <td>0</td>\n",
       "    </tr>\n",
       "    <tr>\n",
       "      <th>690</th>\n",
       "      <td>8</td>\n",
       "      <td>107</td>\n",
       "      <td>80</td>\n",
       "      <td>0</td>\n",
       "      <td>0</td>\n",
       "      <td>24.6</td>\n",
       "      <td>0.856</td>\n",
       "      <td>34</td>\n",
       "      <td>0</td>\n",
       "    </tr>\n",
       "    <tr>\n",
       "      <th>473</th>\n",
       "      <td>7</td>\n",
       "      <td>136</td>\n",
       "      <td>90</td>\n",
       "      <td>0</td>\n",
       "      <td>0</td>\n",
       "      <td>29.9</td>\n",
       "      <td>0.210</td>\n",
       "      <td>50</td>\n",
       "      <td>0</td>\n",
       "    </tr>\n",
       "  </tbody>\n",
       "</table>\n",
       "</div>"
      ],
      "text/plain": [
       "     Pregnancies  Glucose  BloodPressure  SkinThickness  Insulin   BMI  \\\n",
       "668            6       98             58             33      190  34.0   \n",
       "324            2      112             75             32        0  35.7   \n",
       "624            2      108             64              0        0  30.8   \n",
       "690            8      107             80              0        0  24.6   \n",
       "473            7      136             90              0        0  29.9   \n",
       "\n",
       "     DiabetesPedigreeFunction  Age  Outcome  \n",
       "668                     0.430   43        0  \n",
       "324                     0.148   21        0  \n",
       "624                     0.158   21        0  \n",
       "690                     0.856   34        0  \n",
       "473                     0.210   50        0  "
      ]
     },
     "execution_count": 139,
     "metadata": {},
     "output_type": "execute_result"
    }
   ],
   "source": [
    "import pandas as pd\n",
    "\n",
    "data = pd.read_csv(\"diabetes.csv\")\n",
    "data.sample(5, random_state=42)"
   ]
  },
  {
   "cell_type": "code",
   "execution_count": 140,
   "metadata": {},
   "outputs": [
    {
     "data": {
      "text/html": [
       "<div>\n",
       "<style scoped>\n",
       "    .dataframe tbody tr th:only-of-type {\n",
       "        vertical-align: middle;\n",
       "    }\n",
       "\n",
       "    .dataframe tbody tr th {\n",
       "        vertical-align: top;\n",
       "    }\n",
       "\n",
       "    .dataframe thead th {\n",
       "        text-align: right;\n",
       "    }\n",
       "</style>\n",
       "<table border=\"1\" class=\"dataframe\">\n",
       "  <thead>\n",
       "    <tr style=\"text-align: right;\">\n",
       "      <th></th>\n",
       "      <th>Pregnancies</th>\n",
       "      <th>Glucose</th>\n",
       "      <th>BloodPressure</th>\n",
       "      <th>SkinThickness</th>\n",
       "      <th>Insulin</th>\n",
       "      <th>BMI</th>\n",
       "      <th>DiabetesPedigreeFunction</th>\n",
       "      <th>Age</th>\n",
       "      <th>Outcome</th>\n",
       "    </tr>\n",
       "  </thead>\n",
       "  <tbody>\n",
       "    <tr>\n",
       "      <th>count</th>\n",
       "      <td>768.000000</td>\n",
       "      <td>768.000000</td>\n",
       "      <td>768.000000</td>\n",
       "      <td>768.000000</td>\n",
       "      <td>768.000000</td>\n",
       "      <td>768.000000</td>\n",
       "      <td>768.000000</td>\n",
       "      <td>768.000000</td>\n",
       "      <td>768.000000</td>\n",
       "    </tr>\n",
       "    <tr>\n",
       "      <th>mean</th>\n",
       "      <td>3.845052</td>\n",
       "      <td>120.894531</td>\n",
       "      <td>69.105469</td>\n",
       "      <td>20.536458</td>\n",
       "      <td>79.799479</td>\n",
       "      <td>31.992578</td>\n",
       "      <td>0.471876</td>\n",
       "      <td>33.240885</td>\n",
       "      <td>0.348958</td>\n",
       "    </tr>\n",
       "    <tr>\n",
       "      <th>std</th>\n",
       "      <td>3.369578</td>\n",
       "      <td>31.972618</td>\n",
       "      <td>19.355807</td>\n",
       "      <td>15.952218</td>\n",
       "      <td>115.244002</td>\n",
       "      <td>7.884160</td>\n",
       "      <td>0.331329</td>\n",
       "      <td>11.760232</td>\n",
       "      <td>0.476951</td>\n",
       "    </tr>\n",
       "    <tr>\n",
       "      <th>min</th>\n",
       "      <td>0.000000</td>\n",
       "      <td>0.000000</td>\n",
       "      <td>0.000000</td>\n",
       "      <td>0.000000</td>\n",
       "      <td>0.000000</td>\n",
       "      <td>0.000000</td>\n",
       "      <td>0.078000</td>\n",
       "      <td>21.000000</td>\n",
       "      <td>0.000000</td>\n",
       "    </tr>\n",
       "    <tr>\n",
       "      <th>25%</th>\n",
       "      <td>1.000000</td>\n",
       "      <td>99.000000</td>\n",
       "      <td>62.000000</td>\n",
       "      <td>0.000000</td>\n",
       "      <td>0.000000</td>\n",
       "      <td>27.300000</td>\n",
       "      <td>0.243750</td>\n",
       "      <td>24.000000</td>\n",
       "      <td>0.000000</td>\n",
       "    </tr>\n",
       "    <tr>\n",
       "      <th>50%</th>\n",
       "      <td>3.000000</td>\n",
       "      <td>117.000000</td>\n",
       "      <td>72.000000</td>\n",
       "      <td>23.000000</td>\n",
       "      <td>30.500000</td>\n",
       "      <td>32.000000</td>\n",
       "      <td>0.372500</td>\n",
       "      <td>29.000000</td>\n",
       "      <td>0.000000</td>\n",
       "    </tr>\n",
       "    <tr>\n",
       "      <th>75%</th>\n",
       "      <td>6.000000</td>\n",
       "      <td>140.250000</td>\n",
       "      <td>80.000000</td>\n",
       "      <td>32.000000</td>\n",
       "      <td>127.250000</td>\n",
       "      <td>36.600000</td>\n",
       "      <td>0.626250</td>\n",
       "      <td>41.000000</td>\n",
       "      <td>1.000000</td>\n",
       "    </tr>\n",
       "    <tr>\n",
       "      <th>max</th>\n",
       "      <td>17.000000</td>\n",
       "      <td>199.000000</td>\n",
       "      <td>122.000000</td>\n",
       "      <td>99.000000</td>\n",
       "      <td>846.000000</td>\n",
       "      <td>67.100000</td>\n",
       "      <td>2.420000</td>\n",
       "      <td>81.000000</td>\n",
       "      <td>1.000000</td>\n",
       "    </tr>\n",
       "  </tbody>\n",
       "</table>\n",
       "</div>"
      ],
      "text/plain": [
       "       Pregnancies     Glucose  BloodPressure  SkinThickness     Insulin  \\\n",
       "count   768.000000  768.000000     768.000000     768.000000  768.000000   \n",
       "mean      3.845052  120.894531      69.105469      20.536458   79.799479   \n",
       "std       3.369578   31.972618      19.355807      15.952218  115.244002   \n",
       "min       0.000000    0.000000       0.000000       0.000000    0.000000   \n",
       "25%       1.000000   99.000000      62.000000       0.000000    0.000000   \n",
       "50%       3.000000  117.000000      72.000000      23.000000   30.500000   \n",
       "75%       6.000000  140.250000      80.000000      32.000000  127.250000   \n",
       "max      17.000000  199.000000     122.000000      99.000000  846.000000   \n",
       "\n",
       "              BMI  DiabetesPedigreeFunction         Age     Outcome  \n",
       "count  768.000000                768.000000  768.000000  768.000000  \n",
       "mean    31.992578                  0.471876   33.240885    0.348958  \n",
       "std      7.884160                  0.331329   11.760232    0.476951  \n",
       "min      0.000000                  0.078000   21.000000    0.000000  \n",
       "25%     27.300000                  0.243750   24.000000    0.000000  \n",
       "50%     32.000000                  0.372500   29.000000    0.000000  \n",
       "75%     36.600000                  0.626250   41.000000    1.000000  \n",
       "max     67.100000                  2.420000   81.000000    1.000000  "
      ]
     },
     "execution_count": 140,
     "metadata": {},
     "output_type": "execute_result"
    }
   ],
   "source": [
    "data.describe()"
   ]
  },
  {
   "cell_type": "markdown",
   "metadata": {},
   "source": [
    "As it's fairly obvious, the dataset contains a considerable number of instances with Insulin value of zero. Since this parameter plays a great rule in diabetes detection, replacing the missing values (which nearly half of instance do) with something like average or median, does not seem right.\n",
    "\n",
    "As you can see below, 49 percent of instances are missing Insulin values.\n",
    "\n",
    "In addition, nearly 30 percent of the instances do have a Skin Thickness value equal to zero, which is not possible."
   ]
  },
  {
   "cell_type": "code",
   "execution_count": 141,
   "metadata": {},
   "outputs": [
    {
     "name": "stdout",
     "output_type": "stream",
     "text": [
      "Instances with Insulin level of zero: 48.7 %\n",
      "Instances with Skin Thickness of zero: 29.6 %\n"
     ]
    }
   ],
   "source": [
    "zero_insulin = round(data[data['Insulin'] == 0]['Insulin'].count() / len(data) * 100, 1)\n",
    "zero_skin_thickness = round(data[data['SkinThickness'] == 0]['SkinThickness'].count() / len(data) * 100, 1)\n",
    "print(f'Instances with Insulin level of zero: {zero_insulin} %')\n",
    "print(f'Instances with Skin Thickness of zero: {zero_skin_thickness} %')"
   ]
  },
  {
   "cell_type": "markdown",
   "metadata": {},
   "source": [
    "With the code below, it is evident that all the instances which have no associated Skin Thickness value also miss an Insulin value."
   ]
  },
  {
   "cell_type": "code",
   "execution_count": 142,
   "metadata": {},
   "outputs": [
    {
     "name": "stdout",
     "output_type": "stream",
     "text": [
      "Instances with both Insulin and Skin Thickness of zero: 29.6 %\n"
     ]
    }
   ],
   "source": [
    "zero_both = round(data[(data['Insulin'] == 0) & (data['SkinThickness'] == 0)]['Insulin'].count() / len(data) * 100, 1)\n",
    "print(f'Instances with both Insulin and Skin Thickness of zero: {zero_both} %')"
   ]
  },
  {
   "cell_type": "markdown",
   "metadata": {},
   "source": [
    "My desicion here was to remove all the instances with missing Insulin values. It might be wrong and I am not sure if that's the best way to address that issue."
   ]
  },
  {
   "cell_type": "code",
   "execution_count": 143,
   "metadata": {},
   "outputs": [
    {
     "name": "stdout",
     "output_type": "stream",
     "text": [
      "Data shrinked from 768 instances to 394.\n"
     ]
    }
   ],
   "source": [
    "fixed_data = data[data['Insulin'] != 0]\n",
    "print(f'Data shrinked from {len(data)} instances to {len(fixed_data)}.')"
   ]
  },
  {
   "cell_type": "markdown",
   "metadata": {},
   "source": [
    "Also, there are some zero values for BMI and Glucose level that are practically impossible. So we replace those with the median value with respect to the non-zero values in the same column."
   ]
  },
  {
   "cell_type": "code",
   "execution_count": 145,
   "metadata": {},
   "outputs": [
    {
     "data": {
      "text/html": [
       "<div>\n",
       "<style scoped>\n",
       "    .dataframe tbody tr th:only-of-type {\n",
       "        vertical-align: middle;\n",
       "    }\n",
       "\n",
       "    .dataframe tbody tr th {\n",
       "        vertical-align: top;\n",
       "    }\n",
       "\n",
       "    .dataframe thead th {\n",
       "        text-align: right;\n",
       "    }\n",
       "</style>\n",
       "<table border=\"1\" class=\"dataframe\">\n",
       "  <thead>\n",
       "    <tr style=\"text-align: right;\">\n",
       "      <th></th>\n",
       "      <th>Pregnancies</th>\n",
       "      <th>Glucose</th>\n",
       "      <th>BloodPressure</th>\n",
       "      <th>SkinThickness</th>\n",
       "      <th>Insulin</th>\n",
       "      <th>BMI</th>\n",
       "      <th>DiabetesPedigreeFunction</th>\n",
       "      <th>Age</th>\n",
       "      <th>Outcome</th>\n",
       "    </tr>\n",
       "  </thead>\n",
       "  <tbody>\n",
       "    <tr>\n",
       "      <th>count</th>\n",
       "      <td>394.000000</td>\n",
       "      <td>394.000000</td>\n",
       "      <td>394.000000</td>\n",
       "      <td>394.000000</td>\n",
       "      <td>394.000000</td>\n",
       "      <td>394.000000</td>\n",
       "      <td>394.000000</td>\n",
       "      <td>394.000000</td>\n",
       "      <td>394.000000</td>\n",
       "    </tr>\n",
       "    <tr>\n",
       "      <th>mean</th>\n",
       "      <td>3.286802</td>\n",
       "      <td>122.606599</td>\n",
       "      <td>70.654822</td>\n",
       "      <td>29.106599</td>\n",
       "      <td>155.548223</td>\n",
       "      <td>33.072843</td>\n",
       "      <td>0.525543</td>\n",
       "      <td>30.814721</td>\n",
       "      <td>0.329949</td>\n",
       "    </tr>\n",
       "    <tr>\n",
       "      <th>std</th>\n",
       "      <td>3.209635</td>\n",
       "      <td>30.783576</td>\n",
       "      <td>12.469919</td>\n",
       "      <td>10.504273</td>\n",
       "      <td>118.775855</td>\n",
       "      <td>7.015007</td>\n",
       "      <td>0.350127</td>\n",
       "      <td>10.198971</td>\n",
       "      <td>0.470792</td>\n",
       "    </tr>\n",
       "    <tr>\n",
       "      <th>min</th>\n",
       "      <td>0.000000</td>\n",
       "      <td>56.000000</td>\n",
       "      <td>24.000000</td>\n",
       "      <td>7.000000</td>\n",
       "      <td>14.000000</td>\n",
       "      <td>18.200000</td>\n",
       "      <td>0.085000</td>\n",
       "      <td>21.000000</td>\n",
       "      <td>0.000000</td>\n",
       "    </tr>\n",
       "    <tr>\n",
       "      <th>25%</th>\n",
       "      <td>1.000000</td>\n",
       "      <td>99.000000</td>\n",
       "      <td>62.000000</td>\n",
       "      <td>21.000000</td>\n",
       "      <td>76.250000</td>\n",
       "      <td>28.400000</td>\n",
       "      <td>0.270250</td>\n",
       "      <td>23.000000</td>\n",
       "      <td>0.000000</td>\n",
       "    </tr>\n",
       "    <tr>\n",
       "      <th>50%</th>\n",
       "      <td>2.000000</td>\n",
       "      <td>119.000000</td>\n",
       "      <td>70.000000</td>\n",
       "      <td>29.000000</td>\n",
       "      <td>125.000000</td>\n",
       "      <td>33.200000</td>\n",
       "      <td>0.449500</td>\n",
       "      <td>27.000000</td>\n",
       "      <td>0.000000</td>\n",
       "    </tr>\n",
       "    <tr>\n",
       "      <th>75%</th>\n",
       "      <td>5.000000</td>\n",
       "      <td>143.000000</td>\n",
       "      <td>78.000000</td>\n",
       "      <td>36.750000</td>\n",
       "      <td>190.000000</td>\n",
       "      <td>37.075000</td>\n",
       "      <td>0.687000</td>\n",
       "      <td>36.000000</td>\n",
       "      <td>1.000000</td>\n",
       "    </tr>\n",
       "    <tr>\n",
       "      <th>max</th>\n",
       "      <td>17.000000</td>\n",
       "      <td>198.000000</td>\n",
       "      <td>110.000000</td>\n",
       "      <td>63.000000</td>\n",
       "      <td>846.000000</td>\n",
       "      <td>67.100000</td>\n",
       "      <td>2.420000</td>\n",
       "      <td>81.000000</td>\n",
       "      <td>1.000000</td>\n",
       "    </tr>\n",
       "  </tbody>\n",
       "</table>\n",
       "</div>"
      ],
      "text/plain": [
       "       Pregnancies     Glucose  BloodPressure  SkinThickness     Insulin  \\\n",
       "count   394.000000  394.000000     394.000000     394.000000  394.000000   \n",
       "mean      3.286802  122.606599      70.654822      29.106599  155.548223   \n",
       "std       3.209635   30.783576      12.469919      10.504273  118.775855   \n",
       "min       0.000000   56.000000      24.000000       7.000000   14.000000   \n",
       "25%       1.000000   99.000000      62.000000      21.000000   76.250000   \n",
       "50%       2.000000  119.000000      70.000000      29.000000  125.000000   \n",
       "75%       5.000000  143.000000      78.000000      36.750000  190.000000   \n",
       "max      17.000000  198.000000     110.000000      63.000000  846.000000   \n",
       "\n",
       "              BMI  DiabetesPedigreeFunction         Age     Outcome  \n",
       "count  394.000000                394.000000  394.000000  394.000000  \n",
       "mean    33.072843                  0.525543   30.814721    0.329949  \n",
       "std      7.015007                  0.350127   10.198971    0.470792  \n",
       "min     18.200000                  0.085000   21.000000    0.000000  \n",
       "25%     28.400000                  0.270250   23.000000    0.000000  \n",
       "50%     33.200000                  0.449500   27.000000    0.000000  \n",
       "75%     37.075000                  0.687000   36.000000    1.000000  \n",
       "max     67.100000                  2.420000   81.000000    1.000000  "
      ]
     },
     "execution_count": 145,
     "metadata": {},
     "output_type": "execute_result"
    }
   ],
   "source": [
    "median_glucose = fixed_data[fixed_data['Glucose'] != 0]['Glucose'].median()\n",
    "median_bmi = fixed_data[fixed_data['BMI'] != 0]['BMI'].median()\n",
    "\n",
    "fixed_data.loc[fixed_data['Glucose'] == 0, \"Glucose\"] = median_glucose\n",
    "fixed_data.loc[fixed_data['BMI'] == 0, \"BMI\"] = median_bmi\n",
    "\n",
    "fixed_data.describe()"
   ]
  },
  {
   "cell_type": "markdown",
   "metadata": {},
   "source": [
    "After the data is cleaned and prepared, it's time to split the data into training and test sets. An evaluation set is not included because the dataset is already very small, so 2 sets is enough."
   ]
  },
  {
   "cell_type": "code",
   "execution_count": 146,
   "metadata": {},
   "outputs": [],
   "source": [
    "from sklearn.model_selection import train_test_split\n",
    "\n",
    "train_set, test_set = train_test_split(fixed_data, test_size=0.2, random_state=42)\n",
    "\n",
    "train = train_set.drop(columns=['Outcome'])\n",
    "train_label = train_set['Outcome']\n",
    "\n",
    "test = test_set.drop(columns=['Outcome'])\n",
    "test_label = test_set['Outcome']"
   ]
  },
  {
   "cell_type": "markdown",
   "metadata": {},
   "source": [
    "The first model is a Logistic Regression model with a Ridge Regularization term (penalty=l2). A feature scaling is applied to the data to obtain better results."
   ]
  },
  {
   "cell_type": "code",
   "execution_count": 147,
   "metadata": {},
   "outputs": [
    {
     "name": "stdout",
     "output_type": "stream",
     "text": [
      "Accuracy of Logistic Regression model: 78.48 %\n"
     ]
    }
   ],
   "source": [
    "from sklearn.preprocessing import StandardScaler\n",
    "from sklearn.pipeline import make_pipeline\n",
    "from sklearn.linear_model import LogisticRegression\n",
    "\n",
    "logistic_reg = make_pipeline(\n",
    "    StandardScaler(),\n",
    "    LogisticRegression(random_state=42, penalty=\"l2\")\n",
    ")\n",
    "logistic_reg.fit(train, train_label)\n",
    "logistic_reg_pred = logistic_reg.predict(test)\n",
    "\n",
    "logistic_reg_accuracy = round((logistic_reg_pred == test_label).mean() * 100, 2)\n",
    "print(f'Accuracy of Logistic Regression model: {logistic_reg_accuracy} %')"
   ]
  },
  {
   "cell_type": "markdown",
   "metadata": {},
   "source": [
    "Secondly, 2 different Support Vector Machine Models are trained, one with a Polynomial kernel and the other one with a RBF kernel. As you can see, the RBF kernel performs better in this case."
   ]
  },
  {
   "cell_type": "code",
   "execution_count": 148,
   "metadata": {},
   "outputs": [
    {
     "name": "stdout",
     "output_type": "stream",
     "text": [
      "Accuracy of SVC model with Poly kernel: 75.95 %\n",
      "Accuracy of SVC model with RBF kernel: 77.22 %\n"
     ]
    }
   ],
   "source": [
    "from sklearn.svm import SVC\n",
    "\n",
    "svc_poly = make_pipeline(\n",
    "    StandardScaler(),\n",
    "    SVC(kernel=\"poly\", random_state=42)\n",
    ")\n",
    "\n",
    "svc_rbf = make_pipeline(\n",
    "    StandardScaler(),\n",
    "    SVC(kernel=\"rbf\", random_state=42)\n",
    ")\n",
    "svc_poly.fit(train, train_label)\n",
    "svc_rbf.fit(train, train_label)\n",
    "\n",
    "svc_poly_pred = svc_poly.predict(test)\n",
    "svc_rbf_pred = svc_rbf.predict(test)\n",
    "\n",
    "svc_poly_accuracy = round((svc_poly_pred == test_label).mean() * 100, 2)\n",
    "svc_rbf_accuracy = round((svc_rbf_pred == test_label).mean() * 100, 2)\n",
    "\n",
    "print(f'Accuracy of SVC model with Poly kernel: {svc_poly_accuracy} %')\n",
    "print(f'Accuracy of SVC model with RBF kernel: {svc_rbf_accuracy} %')"
   ]
  },
  {
   "cell_type": "markdown",
   "metadata": {},
   "source": [
    "Third, we train a decision tree. The accuracy is awful for the model with default hyperparameters, but we will improve it a little bit later."
   ]
  },
  {
   "cell_type": "code",
   "execution_count": 149,
   "metadata": {},
   "outputs": [
    {
     "name": "stdout",
     "output_type": "stream",
     "text": [
      "Accuracy of Decision Tree model: 72.15 %\n"
     ]
    }
   ],
   "source": [
    "from sklearn.tree import DecisionTreeClassifier\n",
    "\n",
    "tree_clf = DecisionTreeClassifier(random_state=42,)\n",
    "tree_clf.fit(train, train_label)\n",
    "tree_clf_pred = tree_clf.predict(test)\n",
    "tree_clf_accuracy = round((tree_clf_pred == test_label).mean() * 100, 2)\n",
    "print(f'Accuracy of Decision Tree model: {tree_clf_accuracy} %')"
   ]
  },
  {
   "cell_type": "markdown",
   "metadata": {},
   "source": [
    "The First Ensemble model in this notebook is this Random Forest Classifier with default hyperparameter values, which has a performance close to SVC with RBF kernel."
   ]
  },
  {
   "cell_type": "code",
   "execution_count": 150,
   "metadata": {},
   "outputs": [
    {
     "name": "stdout",
     "output_type": "stream",
     "text": [
      "Accuracy of Random Forest` model: 77.22 %\n"
     ]
    }
   ],
   "source": [
    "from sklearn.ensemble import RandomForestClassifier\n",
    "\n",
    "rnd_clf = RandomForestClassifier(random_state=42)\n",
    "rnd_clf.fit(train, train_label)\n",
    "rnd_clf_pred = rnd_clf.predict(test)\n",
    "rnd_clf_accuracy = round((rnd_clf_pred == test_label).mean() * 100, 2)\n",
    "print(f'Accuracy of Random Forest` model: {rnd_clf_accuracy} %')"
   ]
  },
  {
   "cell_type": "markdown",
   "metadata": {},
   "source": [
    "Now it's time to conduct a grid search with some typical values. To keep the computation time low enough, only a couple of hyperparameters are studied in this grid search, but the improvement is acceptable!"
   ]
  },
  {
   "cell_type": "code",
   "execution_count": 151,
   "metadata": {},
   "outputs": [
    {
     "name": "stdout",
     "output_type": "stream",
     "text": [
      "Desicion Tree Grid Search Done!\n",
      "Random Forest Grid Search Done!\n",
      "- - - - - - - - - - - - - - - - - \n",
      "Desicion Tree Best Parameters: {'max_depth': 3}\n",
      "Random Forest Best Parameters: {'max_depth': 3, 'n_estimators': 200}\n",
      "Accuracy of Best Decision Tree model: 81.01 %\n",
      "Accuracy of Best Random Forest model: 79.75 %\n"
     ]
    }
   ],
   "source": [
    "from sklearn.model_selection import GridSearchCV\n",
    "\n",
    "param_grid_tree = [\n",
    "    {'max_depth': [2, 3, 4, 5, 6]}\n",
    "]\n",
    "param_grid_forest = [\n",
    "    {'max_depth': [2, 3, 4, 5],\n",
    "     'n_estimators': [100, 200, 300, 500]}\n",
    "]\n",
    "\n",
    "grid_srch_tree = GridSearchCV(tree_clf, param_grid_tree, cv=3, n_jobs=-1)\n",
    "grid_srch_forest = GridSearchCV(rnd_clf, param_grid_forest, cv=3, n_jobs=-1)\n",
    "\n",
    "grid_srch_tree.fit(train, train_label)\n",
    "print('Desicion Tree Grid Search Done!')\n",
    "grid_srch_forest.fit(train, train_label)\n",
    "print('Random Forest Grid Search Done!')\n",
    "\n",
    "print('- - - - - - - - - - - - - - - - - ')\n",
    "\n",
    "print(f'Desicion Tree Best Parameters: {grid_srch_tree.best_params_}')\n",
    "print(f'Random Forest Best Parameters: {grid_srch_forest.best_params_}')\n",
    "\n",
    "best_tree_clf = grid_srch_tree.best_estimator_\n",
    "best_tree_clf_pred = best_tree_clf.predict(test)\n",
    "best_tree_clf_accuracy = round((best_tree_clf_pred == test_label).mean() * 100, 2)\n",
    "\n",
    "best_forest_clf = grid_srch_forest.best_estimator_\n",
    "best_forest_clf_pred = best_forest_clf.predict(test)\n",
    "best_forest_clf_accuracy = round((best_forest_clf_pred == test_label).mean() * 100, 2)\n",
    "\n",
    "print(f'Accuracy of Best Decision Tree model: {best_tree_clf_accuracy} %')\n",
    "print(f'Accuracy of Best Random Forest model: {best_forest_clf_accuracy} %')"
   ]
  },
  {
   "cell_type": "markdown",
   "metadata": {},
   "source": [
    "The last model is to use Logistic Regression, SVC, and Decision Tree models to vote for the result! A Voting Classification model is trained here which has a very good performance."
   ]
  },
  {
   "cell_type": "code",
   "execution_count": 152,
   "metadata": {},
   "outputs": [
    {
     "name": "stdout",
     "output_type": "stream",
     "text": [
      "Accuracy of Voting Ensemble model: 81.01 %\n"
     ]
    }
   ],
   "source": [
    "from sklearn.ensemble import VotingClassifier\n",
    "\n",
    "voting_clf = VotingClassifier(\n",
    "    estimators=[\n",
    "        (\"logreg\", logistic_reg),\n",
    "        (\"svc\", svc_rbf),\n",
    "        (\"tree\", best_tree_clf)\n",
    "    ],\n",
    "    voting='hard'\n",
    ")\n",
    "voting_clf.fit(train, train_label)\n",
    "voting_clf_pred = voting_clf.predict(test)\n",
    "voting_clf_accuracy = round((voting_clf_pred == test_label).mean() * 100, 2)\n",
    "print(f'Accuracy of Voting Ensemble model: {voting_clf_accuracy} %')"
   ]
  },
  {
   "cell_type": "markdown",
   "metadata": {},
   "source": [
    "Here are some of the instances that the best model in this study (the Voting Classification) wrongly predicted."
   ]
  },
  {
   "cell_type": "code",
   "execution_count": 153,
   "metadata": {},
   "outputs": [
    {
     "data": {
      "text/html": [
       "<div>\n",
       "<style scoped>\n",
       "    .dataframe tbody tr th:only-of-type {\n",
       "        vertical-align: middle;\n",
       "    }\n",
       "\n",
       "    .dataframe tbody tr th {\n",
       "        vertical-align: top;\n",
       "    }\n",
       "\n",
       "    .dataframe thead th {\n",
       "        text-align: right;\n",
       "    }\n",
       "</style>\n",
       "<table border=\"1\" class=\"dataframe\">\n",
       "  <thead>\n",
       "    <tr style=\"text-align: right;\">\n",
       "      <th></th>\n",
       "      <th>Pregnancies</th>\n",
       "      <th>Glucose</th>\n",
       "      <th>BloodPressure</th>\n",
       "      <th>SkinThickness</th>\n",
       "      <th>Insulin</th>\n",
       "      <th>BMI</th>\n",
       "      <th>DiabetesPedigreeFunction</th>\n",
       "      <th>Age</th>\n",
       "      <th>Outcome</th>\n",
       "      <th>VotingPrediction</th>\n",
       "    </tr>\n",
       "  </thead>\n",
       "  <tbody>\n",
       "    <tr>\n",
       "      <th>328</th>\n",
       "      <td>2</td>\n",
       "      <td>102</td>\n",
       "      <td>86</td>\n",
       "      <td>36</td>\n",
       "      <td>120</td>\n",
       "      <td>45.5</td>\n",
       "      <td>0.127</td>\n",
       "      <td>23</td>\n",
       "      <td>1</td>\n",
       "      <td>0</td>\n",
       "    </tr>\n",
       "    <tr>\n",
       "      <th>258</th>\n",
       "      <td>1</td>\n",
       "      <td>193</td>\n",
       "      <td>50</td>\n",
       "      <td>16</td>\n",
       "      <td>375</td>\n",
       "      <td>25.9</td>\n",
       "      <td>0.655</td>\n",
       "      <td>24</td>\n",
       "      <td>0</td>\n",
       "      <td>1</td>\n",
       "    </tr>\n",
       "    <tr>\n",
       "      <th>755</th>\n",
       "      <td>1</td>\n",
       "      <td>128</td>\n",
       "      <td>88</td>\n",
       "      <td>39</td>\n",
       "      <td>110</td>\n",
       "      <td>36.5</td>\n",
       "      <td>1.057</td>\n",
       "      <td>37</td>\n",
       "      <td>1</td>\n",
       "      <td>0</td>\n",
       "    </tr>\n",
       "    <tr>\n",
       "      <th>669</th>\n",
       "      <td>9</td>\n",
       "      <td>154</td>\n",
       "      <td>78</td>\n",
       "      <td>30</td>\n",
       "      <td>100</td>\n",
       "      <td>30.9</td>\n",
       "      <td>0.164</td>\n",
       "      <td>45</td>\n",
       "      <td>0</td>\n",
       "      <td>1</td>\n",
       "    </tr>\n",
       "    <tr>\n",
       "      <th>187</th>\n",
       "      <td>1</td>\n",
       "      <td>128</td>\n",
       "      <td>98</td>\n",
       "      <td>41</td>\n",
       "      <td>58</td>\n",
       "      <td>32.0</td>\n",
       "      <td>1.321</td>\n",
       "      <td>33</td>\n",
       "      <td>1</td>\n",
       "      <td>0</td>\n",
       "    </tr>\n",
       "  </tbody>\n",
       "</table>\n",
       "</div>"
      ],
      "text/plain": [
       "     Pregnancies  Glucose  BloodPressure  SkinThickness  Insulin   BMI  \\\n",
       "328            2      102             86             36      120  45.5   \n",
       "258            1      193             50             16      375  25.9   \n",
       "755            1      128             88             39      110  36.5   \n",
       "669            9      154             78             30      100  30.9   \n",
       "187            1      128             98             41       58  32.0   \n",
       "\n",
       "     DiabetesPedigreeFunction  Age  Outcome  VotingPrediction  \n",
       "328                     0.127   23        1                 0  \n",
       "258                     0.655   24        0                 1  \n",
       "755                     1.057   37        1                 0  \n",
       "669                     0.164   45        0                 1  \n",
       "187                     1.321   33        1                 0  "
      ]
     },
     "execution_count": 153,
     "metadata": {},
     "output_type": "execute_result"
    }
   ],
   "source": [
    "test_set['VotingPrediction'] = voting_clf_pred\n",
    "wrong_predictions = test_set[test_set['Outcome'] != test_set['VotingPrediction']]\n",
    "wrong_predictions.head()"
   ]
  },
  {
   "cell_type": "code",
   "execution_count": 155,
   "metadata": {},
   "outputs": [
    {
     "data": {
      "image/png": "[encoded data removed]",
      "text/plain": [
       "<Figure size 640x480 with 1 Axes>"
      ]
     },
     "metadata": {},
     "output_type": "display_data"
    }
   ],
   "source": [
    "import matplotlib.pyplot as plt\n",
    "\n",
    "models_accuracies = [logistic_reg_accuracy, svc_poly_accuracy, svc_rbf_accuracy, best_tree_clf_accuracy, best_forest_clf_accuracy, voting_clf_accuracy]\n",
    "models_names = [\"Logistic Reg\", \"SVC Poly\", \"SVC RBF\", \"Decision Tree\", \"Random Forest\", \"Voting\"]\n",
    "\n",
    "fig, ax = plt.subplots()\n",
    "plt.bar(models_names, models_accuracies)\n",
    "ax.set_ylim(72, 83)\n",
    "ax.set_ylabel(\"Accuracy %\")\n",
    "ax.set_title(\"Models' Performance\")\n",
    "plt.xticks(rotation=45);"
   ]
  },
  {
   "cell_type": "markdown",
   "metadata": {},
   "source": [
    "Thank you for your attention!\n",
    "\n",
    "And ones again, please suggest any improvements that comes to your mind."
   ]
  }
 ],
 "metadata": {
  "kernelspec": {
   "display_name": "Python 3",
   "language": "python",
   "name": "python3"
  },
  "language_info": {
   "codemirror_mode": {
    "name": "ipython",
    "version": 3
   },
   "file_extension": ".py",
   "mimetype": "text/x-python",
   "name": "python",
   "nbconvert_exporter": "python",
   "pygments_lexer": "ipython3",
   "version": "3.11.3"
  }
 },
 "nbformat": 4,
 "nbformat_minor": 2
}
